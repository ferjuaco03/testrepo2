{
 "cells": [
  {
   "cell_type": "markdown",
   "id": "35faf66a",
   "metadata": {},
   "source": [
    "## Tipado dinámico\n",
    "\n",
    "Python utiliza **tipado dinámico**, lo que significa que no necesitas declarar el tipo de variable al definirla. El tipo es determinado en tiempo de ejecución.\n",
    "\n",
    "```python\n",
    "x = 5       # int\n",
    "x = \"hola\"  # ahora es string\n",
    "print(type(x))  # <class 'str'>\n",
    "```"
   ]
  },
  {
   "cell_type": "markdown",
   "id": "52b2a068",
   "metadata": {},
   "source": [
    "## Tipos de datos básicos\n",
    "\n",
    "- **String**: texto\n",
    "- **int**: número entero\n",
    "- **float**: número decimal\n",
    "- **bool**: valor verdadero o falso\n",
    "\n",
    "```python\n",
    "nombre = \"Ana\"\n",
    "edad = 25\n",
    "altura = 1.68\n",
    "activo = True\n",
    "```"
   ]
  },
  {
   "cell_type": "markdown",
   "id": "433f6cfb",
   "metadata": {},
   "source": [
    "## Variables y operadores\n",
    "\n",
    "```python\n",
    "x = 10\n",
    "x += 5  # suma y asigna\n",
    "x -= 2  # resta y asigna\n",
    "\n",
    "nombre = \"Ana\"\n",
    "saludo = \"Hola, \" + nombre  # concatenación\n",
    "saludo_f = f\"Hola, {nombre}\"  # f-string\n",
    "\n",
    "# Operadores de pertenencia\n",
    "print('a' in 'manzana')  # True\n",
    "print('z' not in 'manzana')  # True\n",
    "```"
   ]
  },
  {
   "cell_type": "markdown",
   "id": "ef9ed44d",
   "metadata": {},
   "source": [
    "## Convenciones de nombres\n",
    "\n",
    "- **camelCase**: usado en otros lenguajes, no recomendado en Python.\n",
    "- **snake_case**: recomendado en Python para variables y funciones.\n",
    "\n",
    "```python\n",
    "mi_variable = 10  # Correcto\n",
    "miVariable = 10   # No recomendado\n",
    "```"
   ]
  },
  {
   "cell_type": "markdown",
   "id": "68e97c67",
   "metadata": {},
   "source": [
    "## Datos compuestos\n",
    "\n",
    "- **Listas**: mutables, ordenadas.\n",
    "- **Tuplas**: inmutables, ordenadas.\n",
    "- **Diccionarios**: clave-valor.\n",
    "- **Sets**: no ordenados, únicos.\n",
    "\n",
    "```python\n",
    "lista = [1, 2, 3]\n",
    "tupla = (1, 2, 3)\n",
    "diccionario = {\"nombre\": \"Ana\", \"edad\": 25}\n",
    "conjunto = {1, 2, 2, 3}  # {1, 2, 3}\n",
    "```"
   ]
  },
  {
   "cell_type": "markdown",
   "id": "109f04a6",
   "metadata": {},
   "source": [
    "## Operadores aritméticos\n",
    "\n",
    "```python\n",
    "a, b = 10, 3\n",
    "print(a + b, a - b, a * b, a / b)\n",
    "print(a ** b)      # potenciación\n",
    "print(a // b)      # división baja\n",
    "print(a % b)       # módulo\n",
    "```"
   ]
  },
  {
   "cell_type": "markdown",
   "id": "b996d9aa",
   "metadata": {},
   "source": [
    "## Operadores de comparación\n",
    "\n",
    "```python\n",
    "a, b = 5, 10\n",
    "print(a == b, a != b, a < b, a <= b, a > b, a >= b)\n",
    "```"
   ]
  },
  {
   "cell_type": "markdown",
   "id": "3d587af6",
   "metadata": {},
   "source": [
    "## Condicionales\n",
    "\n",
    "```python\n",
    "x = 15\n",
    "if x < 10:\n",
    "    print(\"menor que 10\")\n",
    "elif x == 10:\n",
    "    print(\"es 10\")\n",
    "else:\n",
    "    print(\"mayor que 10\")\n",
    "```"
   ]
  },
  {
   "cell_type": "markdown",
   "id": "b7183dc8",
   "metadata": {},
   "source": [
    "## Operadores lógicos\n",
    "\n",
    "```python\n",
    "a, b = True, False\n",
    "print(a and b)  # False\n",
    "print(a or b)   # True\n",
    "print(not a)    # False\n",
    "```"
   ]
  },
  {
   "cell_type": "markdown",
   "id": "bd5626e2",
   "metadata": {},
   "source": [
    "## Métodos de cadenas\n",
    "\n",
    "```python\n",
    "s = \"Hola Mundo123\"\n",
    "print(s.upper(), s.lower(), s.capitalize())\n",
    "print(s.find(\"Mundo\"))\n",
    "print(s.index(\"Hola\"))\n",
    "print(s.isnumeric(), s.isalpha())\n",
    "print(s.count(\"o\"), len(s))\n",
    "print(s.endswith(\"123\"), s.startswith(\"Hola\"))\n",
    "```"
   ]
  },
  {
   "cell_type": "markdown",
   "id": "d39a88e5",
   "metadata": {},
   "source": [
    "## Métodos de diccionario\n",
    "\n",
    "```python\n",
    "dic = {\"a\": 1, \"b\": 2}\n",
    "print(dic.keys(), dic.get(\"a\"), dic.items())\n",
    "dic.pop(\"a\")\n",
    "dic.clear()\n",
    "```"
   ]
  },
  {
   "cell_type": "markdown",
   "id": "4808635f",
   "metadata": {},
   "source": [
    "## Inputs y conjuntos\n",
    "\n",
    "```python\n",
    "# nombre = input(\"Dame tu nombre: \")\n",
    "conjunto1 = set([\"a\", \"b\"])\n",
    "conjunto2 = frozenset([\"a\", \"b\", \"c\"])\n",
    "print(conjunto1.issubset(conjunto2))\n",
    "print(conjunto2.issuperset(conjunto1))\n",
    "print(conjunto2.isdisjoint(set([\"x\"])))\n",
    "```"
   ]
  },
  {
   "cell_type": "markdown",
   "id": "a8d40507",
   "metadata": {},
   "source": [
    "## Bucles\n",
    "\n",
    "```python\n",
    "for i in range(3):\n",
    "    print(i)\n",
    "\n",
    "for a, b in zip([1, 2], [\"uno\", \"dos\"]):\n",
    "    print(a, b)\n",
    "\n",
    "for i, valor in enumerate([\"a\", \"b\"]):\n",
    "    print(f\"{i}: {valor}\")\n",
    "\n",
    "i = 0\n",
    "while i < 3:\n",
    "    print(i)\n",
    "    i += 1\n",
    "```"
   ]
  },
  {
   "cell_type": "markdown",
   "id": "79ffa446",
   "metadata": {},
   "source": [
    "## Funciones built-in\n",
    "\n",
    "```python\n",
    "nums = [1, 2, 3]\n",
    "print(max(nums), min(nums), round(3.1416, 2))\n",
    "print(bool([]), all([True, True]), sum(nums))\n",
    "```"
   ]
  },
  {
   "cell_type": "markdown",
   "id": "ffb67dbc",
   "metadata": {},
   "source": [
    "## Funciones propias y lambda\n",
    "\n",
    "```python\n",
    "def saludar(nombre):\n",
    "    print(f\"Hola {nombre}\")\n",
    "\n",
    "def suma(*args):\n",
    "    return sum(args)\n",
    "\n",
    "def resta(a, b=1):\n",
    "    return a - b\n",
    "\n",
    "# Función lambda\n",
    "cuadrado = lambda x: x * x\n",
    "```"
   ]
  }
 ],
 "metadata": {},
 "nbformat": 4,
 "nbformat_minor": 5
}